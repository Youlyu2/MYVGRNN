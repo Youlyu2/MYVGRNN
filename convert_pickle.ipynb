{
 "cells": [
  {
   "cell_type": "code",
   "execution_count": 3,
   "id": "c01d7966",
   "metadata": {},
   "outputs": [],
   "source": [
    "import torch\n",
    "import pickle\n",
    "import scipy"
   ]
  },
  {
   "cell_type": "code",
   "execution_count": null,
   "id": "0e01b912",
   "metadata": {},
   "outputs": [],
   "source": [
    "with open('data/fb/adj_orig_dense_list.pickle', 'rb') as handle:\n",
    "    adj_orig_dense_list = pickle.load(handle)\n",
    "torch.save(adj_orig_dense_list, 'data/fb/adj_orig_dense_list.pt', pickle_protocol=2)"
   ]
  },
  {
   "cell_type": "code",
   "execution_count": null,
   "id": "e6548a4d",
   "metadata": {},
   "outputs": [
    {
     "data": {
      "text/plain": [
       "['data/enron10/adj_time_list.joblib']"
      ]
     },
     "execution_count": 13,
     "metadata": {},
     "output_type": "execute_result"
    }
   ],
   "source": [
    "import joblib\n",
    "import pickle  # only for loading the original\n",
    "topic = 'enron10'\n",
    "with open('data/' + topic + '/adj_time_list.pickle', 'rb') as f:\n",
    "    adj_time_list = pickle.load(f)\n",
    "\n",
    "joblib.dump(adj_time_list, 'data/'+ topic + '/adj_time_list.joblib', compress=3)"
   ]
  },
  {
   "cell_type": "code",
   "execution_count": 13,
   "id": "08872acf",
   "metadata": {},
   "outputs": [],
   "source": [
    "import joblib\n",
    "# Facebook dataset\n",
    "# with open('data/fb/adj_time_list.pt', 'rb') as handle:\n",
    "#     adj_time_list = pickle.load(handle, encoding='latin1')\n",
    "topic = 'edca/noncumulative'\n",
    "adj_time_list = joblib.load(f'data/{topic}/adj_time_list.joblib')\n",
    "\n",
    "torch.save(adj_time_list, f'data/{topic}/adj_time_list.pt')"
   ]
  },
  {
   "cell_type": "code",
   "execution_count": null,
   "id": "713d700c",
   "metadata": {},
   "outputs": [],
   "source": [
    "# with open('data/'+topic+'/adj_orig_dense_list.pickle', 'rb') as handle:\n",
    "#     adj_orig_dense_list = pickle.load(handle)\n",
    "# joblib.dump(adj_orig_dense_list, 'data/'+ topic + '/adj_orig_dense_list.joblib', compress=3)\n",
    "\n",
    "with open('data/' + topic + '/adj_orig_dense_list.pickle', 'rb') as handle:\n",
    "    adj_orig_dense_list = pickle.load(handle)\n",
    "torch.save(adj_orig_dense_list, 'data/' + topic + '/adj_orig_dense_list.pt', pickle_protocol=2)"
   ]
  },
  {
   "cell_type": "code",
   "execution_count": 10,
   "id": "de96700c",
   "metadata": {},
   "outputs": [
    {
     "data": {
      "text/plain": [
       "[<Compressed Sparse Row sparse array of dtype 'int64'\n",
       " \twith 322 stored elements and shape (1379, 1379)>,\n",
       " <Compressed Sparse Row sparse array of dtype 'int64'\n",
       " \twith 2282 stored elements and shape (1379, 1379)>,\n",
       " <Compressed Sparse Row sparse array of dtype 'int64'\n",
       " \twith 2770 stored elements and shape (1379, 1379)>,\n",
       " <Compressed Sparse Row sparse array of dtype 'int64'\n",
       " \twith 3830 stored elements and shape (1379, 1379)>,\n",
       " <Compressed Sparse Row sparse array of dtype 'int64'\n",
       " \twith 7206 stored elements and shape (1379, 1379)>,\n",
       " <Compressed Sparse Row sparse array of dtype 'int64'\n",
       " \twith 8586 stored elements and shape (1379, 1379)>,\n",
       " <Compressed Sparse Row sparse array of dtype 'int64'\n",
       " \twith 9066 stored elements and shape (1379, 1379)>,\n",
       " <Compressed Sparse Row sparse array of dtype 'int64'\n",
       " \twith 9808 stored elements and shape (1379, 1379)>,\n",
       " <Compressed Sparse Row sparse array of dtype 'int64'\n",
       " \twith 9832 stored elements and shape (1379, 1379)>]"
      ]
     },
     "execution_count": 10,
     "metadata": {},
     "output_type": "execute_result"
    }
   ],
   "source": [
    "torch.load(f'data/{topic}/adj_orig_dense_list.pt')\n",
    "torch.load(f'data/{topic}/adj_time_list.pt', weights_only=False)"
   ]
  },
  {
   "cell_type": "code",
   "execution_count": 20,
   "id": "b2c66a5a",
   "metadata": {},
   "outputs": [
    {
     "data": {
      "text/plain": [
       "[tensor([[0., 0., 0.,  ..., 0., 0., 0.],\n",
       "         [0., 0., 0.,  ..., 0., 0., 0.],\n",
       "         [0., 0., 0.,  ..., 0., 0., 0.],\n",
       "         ...,\n",
       "         [0., 0., 0.,  ..., 0., 0., 0.],\n",
       "         [0., 0., 0.,  ..., 0., 0., 0.],\n",
       "         [0., 0., 0.,  ..., 0., 0., 0.]]),\n",
       " tensor([[0., 0., 0.,  ..., 0., 0., 0.],\n",
       "         [0., 0., 0.,  ..., 0., 0., 0.],\n",
       "         [0., 0., 0.,  ..., 0., 0., 0.],\n",
       "         ...,\n",
       "         [0., 0., 0.,  ..., 0., 0., 0.],\n",
       "         [0., 0., 0.,  ..., 0., 0., 0.],\n",
       "         [0., 0., 0.,  ..., 0., 0., 0.]]),\n",
       " tensor([[0., 0., 0.,  ..., 0., 0., 0.],\n",
       "         [0., 0., 0.,  ..., 0., 0., 0.],\n",
       "         [0., 0., 0.,  ..., 0., 0., 0.],\n",
       "         ...,\n",
       "         [0., 0., 0.,  ..., 0., 0., 0.],\n",
       "         [0., 0., 0.,  ..., 0., 0., 0.],\n",
       "         [0., 0., 0.,  ..., 0., 0., 0.]]),\n",
       " tensor([[0., 0., 0.,  ..., 0., 0., 0.],\n",
       "         [0., 0., 0.,  ..., 0., 0., 0.],\n",
       "         [0., 0., 0.,  ..., 0., 0., 0.],\n",
       "         ...,\n",
       "         [0., 0., 0.,  ..., 0., 0., 0.],\n",
       "         [0., 0., 0.,  ..., 0., 0., 0.],\n",
       "         [0., 0., 0.,  ..., 0., 0., 0.]]),\n",
       " tensor([[0., 0., 0.,  ..., 0., 0., 0.],\n",
       "         [0., 0., 0.,  ..., 0., 0., 0.],\n",
       "         [0., 0., 0.,  ..., 0., 0., 0.],\n",
       "         ...,\n",
       "         [0., 0., 0.,  ..., 0., 0., 0.],\n",
       "         [0., 0., 0.,  ..., 0., 0., 0.],\n",
       "         [0., 0., 0.,  ..., 0., 0., 0.]]),\n",
       " tensor([[0., 0., 0.,  ..., 0., 0., 0.],\n",
       "         [0., 0., 0.,  ..., 0., 0., 0.],\n",
       "         [0., 0., 0.,  ..., 0., 0., 0.],\n",
       "         ...,\n",
       "         [0., 0., 0.,  ..., 0., 0., 0.],\n",
       "         [0., 0., 0.,  ..., 0., 0., 0.],\n",
       "         [0., 0., 0.,  ..., 0., 0., 0.]]),\n",
       " tensor([[0., 0., 0.,  ..., 0., 0., 0.],\n",
       "         [0., 0., 0.,  ..., 0., 0., 0.],\n",
       "         [0., 0., 0.,  ..., 0., 0., 0.],\n",
       "         ...,\n",
       "         [0., 0., 0.,  ..., 0., 0., 0.],\n",
       "         [0., 0., 0.,  ..., 0., 0., 0.],\n",
       "         [0., 0., 0.,  ..., 0., 0., 0.]]),\n",
       " tensor([[0., 0., 0.,  ..., 0., 0., 0.],\n",
       "         [0., 0., 0.,  ..., 0., 0., 0.],\n",
       "         [0., 0., 0.,  ..., 0., 0., 0.],\n",
       "         ...,\n",
       "         [0., 0., 0.,  ..., 0., 0., 0.],\n",
       "         [0., 0., 0.,  ..., 0., 0., 0.],\n",
       "         [0., 0., 0.,  ..., 0., 0., 0.]]),\n",
       " tensor([[0., 0., 0.,  ..., 0., 0., 0.],\n",
       "         [0., 0., 0.,  ..., 0., 0., 0.],\n",
       "         [0., 0., 0.,  ..., 0., 0., 0.],\n",
       "         ...,\n",
       "         [0., 0., 0.,  ..., 0., 0., 0.],\n",
       "         [0., 0., 0.,  ..., 0., 0., 0.],\n",
       "         [0., 0., 0.,  ..., 0., 0., 0.]]),\n",
       " tensor([[0., 0., 0.,  ..., 0., 0., 0.],\n",
       "         [0., 0., 0.,  ..., 0., 0., 0.],\n",
       "         [0., 0., 0.,  ..., 0., 0., 0.],\n",
       "         ...,\n",
       "         [0., 0., 0.,  ..., 0., 0., 0.],\n",
       "         [0., 0., 0.,  ..., 0., 0., 0.],\n",
       "         [0., 0., 0.,  ..., 0., 0., 0.]]),\n",
       " tensor([[0., 0., 0.,  ..., 0., 0., 0.],\n",
       "         [0., 0., 0.,  ..., 0., 0., 0.],\n",
       "         [0., 0., 0.,  ..., 0., 0., 0.],\n",
       "         ...,\n",
       "         [0., 0., 0.,  ..., 0., 0., 0.],\n",
       "         [0., 0., 0.,  ..., 0., 0., 0.],\n",
       "         [0., 0., 0.,  ..., 0., 0., 0.]])]"
      ]
     },
     "execution_count": 20,
     "metadata": {},
     "output_type": "execute_result"
    }
   ],
   "source": [
    "adj_orig_dense_list"
   ]
  },
  {
   "cell_type": "code",
   "execution_count": 21,
   "id": "75016c97",
   "metadata": {},
   "outputs": [
    {
     "data": {
      "text/plain": [
       "[<184x184 sparse matrix of type '<type 'numpy.uint8'>'\n",
       " \twith 230 stored elements in Compressed Sparse Row format>,\n",
       " <184x184 sparse matrix of type '<type 'numpy.uint8'>'\n",
       " \twith 312 stored elements in Compressed Sparse Row format>,\n",
       " <184x184 sparse matrix of type '<type 'numpy.uint8'>'\n",
       " \twith 424 stored elements in Compressed Sparse Row format>,\n",
       " <184x184 sparse matrix of type '<type 'numpy.uint8'>'\n",
       " \twith 446 stored elements in Compressed Sparse Row format>,\n",
       " <184x184 sparse matrix of type '<type 'numpy.uint8'>'\n",
       " \twith 358 stored elements in Compressed Sparse Row format>,\n",
       " <184x184 sparse matrix of type '<type 'numpy.uint8'>'\n",
       " \twith 530 stored elements in Compressed Sparse Row format>,\n",
       " <184x184 sparse matrix of type '<type 'numpy.uint8'>'\n",
       " \twith 480 stored elements in Compressed Sparse Row format>,\n",
       " <184x184 sparse matrix of type '<type 'numpy.uint8'>'\n",
       " \twith 506 stored elements in Compressed Sparse Row format>,\n",
       " <184x184 sparse matrix of type '<type 'numpy.uint8'>'\n",
       " \twith 490 stored elements in Compressed Sparse Row format>,\n",
       " <184x184 sparse matrix of type '<type 'numpy.uint8'>'\n",
       " \twith 476 stored elements in Compressed Sparse Row format>,\n",
       " <184x184 sparse matrix of type '<type 'numpy.uint8'>'\n",
       " \twith 532 stored elements in Compressed Sparse Row format>]"
      ]
     },
     "execution_count": 21,
     "metadata": {},
     "output_type": "execute_result"
    }
   ],
   "source": [
    "adj_time_list"
   ]
  },
  {
   "cell_type": "code",
   "execution_count": null,
   "id": "9b011b7e",
   "metadata": {},
   "outputs": [],
   "source": []
  }
 ],
 "metadata": {
  "kernelspec": {
   "display_name": "vgrnn",
   "language": "python",
   "name": "python3"
  },
  "language_info": {
   "codemirror_mode": {
    "name": "ipython",
    "version": 3
   },
   "file_extension": ".py",
   "mimetype": "text/x-python",
   "name": "python",
   "nbconvert_exporter": "python",
   "pygments_lexer": "ipython3",
   "version": "3.12.8"
  }
 },
 "nbformat": 4,
 "nbformat_minor": 5
}
